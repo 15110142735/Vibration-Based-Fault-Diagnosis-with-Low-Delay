{
 "cells": [
  {
   "cell_type": "code",
   "execution_count": 1,
   "metadata": {
    "pycharm": {
     "name": "#%%\n"
    }
   },
   "outputs": [],
   "source": [
    "import glob\n",
    "from scipy.io import loadmat\n",
    "from numpy import asarray\n",
    "import matplotlib.pyplot as plt\n",
    "import numpy as np\n",
    "from scipy import signal\n",
    "import scipy\n",
    "import re\n",
    "import os\n",
    "import pandas as pd\n",
    "import pywt\n",
    "from scipy.fftpack import fft\n",
    "from warnings import warn\n",
    "from sklearn import metrics\n",
    "\n",
    "import warnings \n",
    "warnings.filterwarnings('ignore')"
   ]
  },
  {
   "cell_type": "code",
   "execution_count": 2,
   "metadata": {
    "pycharm": {
     "name": "#%%\n"
    }
   },
   "outputs": [],
   "source": [
    "num_samples = 1200 # Length of input segment\n",
    "###########################################\n",
    "fs = 12000; # Sampling freq."
   ]
  },
  {
   "cell_type": "code",
   "execution_count": 3,
   "metadata": {
    "pycharm": {
     "name": "#%%\n"
    }
   },
   "outputs": [],
   "source": [
    "def apply_fft(x, fs, num_samples):\n",
    "    f = np.linspace(0.0, (fs/2.0), num_samples//2)\n",
    "    freq_values = fft(x)\n",
    "    freq_values = 2.0/num_samples * np.abs(freq_values[0:num_samples//2])\n",
    "    return f, freq_values"
   ]
  },
  {
   "cell_type": "code",
   "execution_count": 4,
   "metadata": {
    "pycharm": {
     "name": "#%%\n"
    }
   },
   "outputs": [],
   "source": [
    "def make_dataset(data_src, num_samples, class_):\n",
    "    \n",
    "    req_key = \"_DE_time\"\n",
    "    pattern = re.compile(req_key)\n",
    "    files = glob.glob(data_src)\n",
    "    files = np.sort(files)\n",
    "    data = loadmat(files[0])\n",
    "    keysList = [key for key in data]\n",
    "    for key in keysList:\n",
    "        if pattern.search(key):\n",
    "            my_key = key\n",
    "    drive_end_data = data[my_key]\n",
    "    drive_end_data = drive_end_data.reshape(-1)\n",
    "    num_segments = np.floor(len(drive_end_data)/num_samples)\n",
    "    slices = np.split(drive_end_data[0:int(num_segments*num_samples)], num_samples)\n",
    "    silces = np.array(slices).reshape(int(num_segments), num_samples)\n",
    "    segmented_data = silces\n",
    "    files = files[1:]\n",
    "    for file in files:\n",
    "        data = loadmat(file)\n",
    "        keysList = [key for key in data]\n",
    "        for key in keysList:\n",
    "            if pattern.search(key):\n",
    "                my_key = key\n",
    "        drive_end_data = data[my_key]\n",
    "        drive_end_data = drive_end_data.reshape(-1)\n",
    "        num_segments = np.floor(len(drive_end_data)/num_samples)\n",
    "        slices = np.split(drive_end_data[0:int(num_segments*num_samples)], num_samples)\n",
    "        silces = np.array(slices).reshape(int(num_segments), num_samples)\n",
    "        segmented_data = np.concatenate( (segmented_data, silces) , axis=0, out=None)\n",
    "    \n",
    "    segmented_data = np.unique(segmented_data, axis= 0) # remove duplicates\n",
    "    np.random.shuffle( segmented_data) # suffule the data\n",
    "    Class_ = np.ones(len(segmented_data))*class_\n",
    "    \n",
    "    return segmented_data, Class_"
   ]
  },
  {
   "cell_type": "code",
   "execution_count": 5,
   "metadata": {
    "pycharm": {
     "name": "#%%\n"
    }
   },
   "outputs": [],
   "source": [
    "data_path = (r\"D:\\Coding\\PdM\\CWRU_dataset\\dataset\")\n",
    "cls_1 = '12K_DE_Normal/*'; cls_2 = '12k_DE_IRFault_0.007/*'; cls_3 = '12k_DE_IRFault_0.014/*'; \n",
    "cls_4 = '12k_DE_IRFault_0.021/*'; cls_5 = '12k_DE_BallFault_0.007/*'\n",
    "cls_6 = '12k_DE_BallFault_0.014/*'; cls_7 = '12k_DE_BallFault_0.021/*'\n",
    "cls_8 = '12k_DE_ORFault_0.007/*'; cls_9 = '12k_DE_ORFault_0.014/*'; cls_10 ='12k_DE_ORFault_0.021/*'\n",
    "\n",
    "norm, y_norm,  = make_dataset(os.path.join(data_path, cls_1), num_samples, 1)\n",
    "defc1, y_defc1 = make_dataset(os.path.join(data_path, cls_2), num_samples, 2)\n",
    "defc2, y_defc2 = make_dataset(os.path.join(data_path, cls_3), num_samples, 3)\n",
    "defc3, y_defc3 = make_dataset(os.path.join(data_path, cls_4), num_samples, 4)\n",
    "defc4, y_defc4 = make_dataset(os.path.join(data_path, cls_5), num_samples, 5)\n",
    "defc5, y_defc5 = make_dataset(os.path.join(data_path, cls_6), num_samples, 6)\n",
    "defc6, y_defc6 = make_dataset(os.path.join(data_path, cls_7), num_samples, 7)\n",
    "defc7, y_defc7 = make_dataset(os.path.join(data_path, cls_8), num_samples, 8)\n",
    "defc8, y_defc8 = make_dataset(os.path.join(data_path, cls_9), num_samples, 9)\n",
    "defc9, y_defc9  = make_dataset(os.path.join(data_path, cls_10), num_samples, 10)"
   ]
  },
  {
   "cell_type": "code",
   "execution_count": 6,
   "metadata": {
    "pycharm": {
     "name": "#%%\n"
    }
   },
   "outputs": [],
   "source": [
    "X = np.concatenate( (norm, defc1, defc2, defc3, defc4, defc5, defc6, defc7, defc8,  defc9 ) , axis=0, out=None)\n",
    "Y = np.concatenate( (y_norm, y_defc1, y_defc2, y_defc3, y_defc4, y_defc5, \n",
    "                          y_defc6, y_defc7, y_defc8, y_defc9  ), axis=0, out=None)"
   ]
  },
  {
   "cell_type": "code",
   "execution_count": 7,
   "metadata": {
    "pycharm": {
     "name": "#%%\n"
    }
   },
   "outputs": [],
   "source": [
    "#####INPUTS / Parameters #############\n",
    "wavelet_function = \"db4\"\n",
    "num_levels = 3 # wp.maxlevel #k\n",
    "m = 1"
   ]
  },
  {
   "cell_type": "code",
   "execution_count": 8,
   "metadata": {
    "pycharm": {
     "name": "#%%\n"
    }
   },
   "outputs": [],
   "source": [
    "\n",
    "num_features = 2**num_levels\n",
    "features = np.repeat(np.nan, len(X)*m*num_features).reshape(len(X),m*num_features)\n",
    "\n",
    "for i in range(len(X)):    \n",
    "    wp = pywt.WaveletPacket(X[i], wavelet = wavelet_function, maxlevel = num_levels) # Wavelet packet transformation\n",
    "    packet_names = [node.path for node in wp.get_level(num_levels, \"natural\")]\n",
    "    for j in range(num_features):\n",
    "        new_wp = pywt.WaveletPacket(data = None, wavelet = wavelet_function, maxlevel = num_levels)\n",
    "        new_wp[packet_names[j]] = wp[packet_names[j]].data\n",
    "        reconstructed_signal = new_wp.reconstruct(update = False) # Signal reconstruction from wavelet packet coefficients\n",
    "        f, c = apply_fft(reconstructed_signal, fs, len(reconstructed_signal))\n",
    "        z = abs(c)\n",
    "        \n",
    "       \n",
    "        \n",
    "        maximal_idx = np.argpartition(z, -m)[-m:]\n",
    "        high_amp = z[maximal_idx]\n",
    "        high_freq = f[maximal_idx]\n",
    "        feature = high_amp*high_freq\n",
    "        #feature_matrix_wav_packet_fft[i,j] = features\n",
    "        \n",
    "        l = 0\n",
    "        for f in feature:\n",
    "            features[i,j*m+l] = f\n",
    "            l = l+1"
   ]
  },
  {
   "cell_type": "code",
   "execution_count": 9,
   "metadata": {
    "pycharm": {
     "name": "#%%\n"
    }
   },
   "outputs": [
    {
     "name": "stdout",
     "output_type": "stream",
     "text": [
      "(5055, 8)\n"
     ]
    },
    {
     "data": {
      "text/plain": [
       "array([ 36.05483455,  47.84521936, 280.63304552,  74.18494945,\n",
       "        21.08425135,  40.09592355, 441.46823013, 129.68277866])"
      ]
     },
     "execution_count": 9,
     "metadata": {},
     "output_type": "execute_result"
    }
   ],
   "source": [
    "print(features.shape)\n",
    "features[i]"
   ]
  },
  {
   "cell_type": "code",
   "execution_count": 10,
   "metadata": {},
   "outputs": [
    {
     "data": {
      "image/png": "[encoded data removed]",
      "text/plain": [
       "<Figure size 432x288 with 1 Axes>"
      ]
     },
     "metadata": {
      "needs_background": "light"
     },
     "output_type": "display_data"
    }
   ],
   "source": [
    "plt.rc('font', size=20)\n",
    "X_Labels = ['F1','F2','F3','F4','F5','F6','F7','F8']\n",
    "plt.bar(X_Labels, features[i], 0.7)#,  size=15)\n",
    "plt.show()"
   ]
  },
  {
   "cell_type": "code",
   "execution_count": 17,
   "metadata": {
    "pycharm": {
     "name": "#%%\n"
    }
   },
   "outputs": [],
   "source": [
    "from sklearn.model_selection import train_test_split\n",
    "from sklearn.preprocessing import StandardScaler\n",
    "import seaborn as sns\n",
    "from sklearn.ensemble import RandomForestClassifier\n",
    "from sklearn.metrics import roc_curve\n",
    "from sklearn.metrics import roc_auc_score\n",
    "from sklearn.metrics import accuracy_score, confusion_matrix"
   ]
  },
  {
   "cell_type": "code",
   "execution_count": 18,
   "metadata": {
    "pycharm": {
     "name": "#%%\n"
    }
   },
   "outputs": [],
   "source": [
    "labels = pd.Categorical(Y)"
   ]
  },
  {
   "cell_type": "code",
   "execution_count": 19,
   "metadata": {
    "pycharm": {
     "name": "#%%\n"
    }
   },
   "outputs": [],
   "source": [
    "X_train, X_test, y_train, y_test = train_test_split(features, labels, test_size = 0.2, \n",
    "                                            stratify = labels, random_state = 42)"
   ]
  },
  {
   "cell_type": "code",
   "execution_count": 20,
   "metadata": {
    "pycharm": {
     "name": "#%%\n"
    }
   },
   "outputs": [],
   "source": [
    "scaler = StandardScaler()\n",
    "train_data_scaled = scaler.fit_transform(X_train)\n",
    "test_data_scaled = scaler.transform(X_test)"
   ]
  },
  {
   "cell_type": "code",
   "execution_count": 25,
   "metadata": {
    "pycharm": {
     "name": "#%%\n"
    }
   },
   "outputs": [
    {
     "data": {
      "text/plain": [
       "RandomForestClassifier(max_depth=20, max_features=1, n_estimators=300)"
      ]
     },
     "execution_count": 25,
     "metadata": {},
     "output_type": "execute_result"
    }
   ],
   "source": [
    "clf_RF = RandomForestClassifier(criterion='gini', max_features = 1, min_samples_leaf=1, min_samples_split=2, \n",
    "                                max_depth= 20, n_estimators= 300)\n",
    "clf_RF.fit(train_data_scaled, y_train)"
   ]
  },
  {
   "cell_type": "code",
   "execution_count": 26,
   "metadata": {
    "pycharm": {
     "name": "#%%\n"
    }
   },
   "outputs": [
    {
     "name": "stdout",
     "output_type": "stream",
     "text": [
      "No. of Samples = 1200 /  k = 3 /  m = 1\n",
      "ROC AUC = 1.000\n",
      "F1 Score = 0.9980217606330366\n",
      "Accuracy = 99.802 %\n"
     ]
    },
    {
     "data": {
      "image/png": "[encoded data removed]",
      "text/plain": [
       "<Figure size 1296x576 with 2 Axes>"
      ]
     },
     "metadata": {
      "needs_background": "light"
     },
     "output_type": "display_data"
    }
   ],
   "source": [
    "test_predictions = clf_RF.predict(test_data_scaled)\n",
    "test_confu_matrix = confusion_matrix(y_test, test_predictions)\n",
    "fault_type = ['C1','C2','C3','C4','C5','C6','C7','C8','C9','C10']\n",
    "plt.figure(1,figsize=(18,8))\n",
    "sns.heatmap(test_confu_matrix, annot= True,fmt = \"d\",\n",
    "xticklabels=fault_type, yticklabels=fault_type, cmap = \"Blues\")\n",
    "plt.xlabel('Predicted Calss')\n",
    "plt.ylabel('True Class')\n",
    "plt.ylabel('True')\n",
    "Accuracy = metrics.accuracy_score(y_test, test_predictions)\n",
    "F1_score = metrics.f1_score(y_test, test_predictions, average='micro')\n",
    "probs = clf_RF.predict_proba(test_data_scaled)\n",
    "lr_auc = roc_auc_score(y_test, probs, multi_class='ovr')\n",
    "print(\"No. of Samples =\", num_samples, \"/  k =\", num_levels, \"/  m =\", m, )\n",
    "print('ROC AUC = %.3f' % (lr_auc))\n",
    "print(\"F1 Score =\", F1_score)\n",
    "print(\"Accuracy = %.3f\" % (Accuracy*100), \"%\")"
   ]
  },
  {
   "cell_type": "code",
   "execution_count": null,
   "metadata": {},
   "outputs": [],
   "source": []
  },
  {
   "cell_type": "code",
   "execution_count": null,
   "metadata": {},
   "outputs": [],
   "source": []
  }
 ],
 "metadata": {
  "kernelspec": {
   "display_name": "Python 3 (ipykernel)",
   "language": "python",
   "name": "python3"
  },
  "language_info": {
   "codemirror_mode": {
    "name": "ipython",
    "version": 3
   },
   "file_extension": ".py",
   "mimetype": "text/x-python",
   "name": "python",
   "nbconvert_exporter": "python",
   "pygments_lexer": "ipython3",
   "version": "3.9.12"
  }
 },
 "nbformat": 4,
 "nbformat_minor": 4
}
